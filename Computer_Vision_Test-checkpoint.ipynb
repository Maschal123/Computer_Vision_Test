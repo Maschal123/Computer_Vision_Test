{
 "cells": [
  {
   "cell_type": "code",
   "execution_count": 1,
   "id": "8d59d7b4",
   "metadata": {},
   "outputs": [
    {
     "name": "stdout",
     "output_type": "stream",
     "text": [
      "Das ist mein erstes Repo!\n"
     ]
    }
   ],
   "source": [
    "print(\"Das ist mein erstes Repo!\")\n"
   ]
  },
  {
   "cell_type": "code",
   "execution_count": null,
   "id": "59100ee9",
   "metadata": {},
   "outputs": [],
   "source": []
  }
 ],
 "metadata": {
  "kernelspec": {
   "display_name": "Python 3 (ipykernel)",
   "language": "python",
   "name": "python3"
  },
  "language_info": {
   "codemirror_mode": {
    "name": "ipython",
    "version": 3
   },
   "file_extension": ".py",
   "mimetype": "text/x-python",
   "name": "python",
   "nbconvert_exporter": "python",
   "pygments_lexer": "ipython3",
   "version": "3.8.0"
  }
 },
 "nbformat": 4,
 "nbformat_minor": 5
}
